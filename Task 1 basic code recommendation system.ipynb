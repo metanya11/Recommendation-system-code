{
 "cells": [
  {
   "cell_type": "code",
   "execution_count": 31,
   "id": "ebbd5a49-d03a-47ab-b2b6-050edb14666e",
   "metadata": {},
   "outputs": [
    {
     "name": "stdout",
     "output_type": "stream",
     "text": [
      "Recommended activities for Student_1: [\"['Dance Club', 'Hackathons']\", \"['Dance Club', 'Hackathons']\", \"['Hackathons', 'Music Club']\", \"['Music Club', 'Hackathons']\", \"['Hackathons']\"]\n"
     ]
    }
   ],
   "source": [
    "import pandas as pd\n",
    "from sklearn.feature_extraction.text import TfidfVectorizer\n",
    "from sklearn.metrics.pairwise import cosine_similarity\n",
    "\n",
    "df = pd.read_csv(\"Comprehensive_Student_Dataset.csv\")\n",
    "\n",
    "df.fillna('', inplace=True)\n",
    "\n",
    "df['activity_features'] = df['Extracurricular Activities'] + ' ' + df['Social Interests'] + ' ' + df['Desired Activities']\n",
    "\n",
    "tfidf_vectorizer = TfidfVectorizer(stop_words='english')\n",
    "\n",
    "tfidf_matrix = tfidf_vectorizer.fit_transform(df['activity_features'])\n",
    "\n",
    "cosine_sim = cosine_similarity(tfidf_matrix, tfidf_matrix)\n",
    "\n",
    "def recommend_activities(student_name, cosine_sim=cosine_sim, df=df):\n",
    "    \"\"\"\n",
    "    Recommends activities for a given student based on their similarity to other students.\n",
    "    \"\"\"\n",
    "    # Getting the index of the student\n",
    "    idx = df[df['Name'] == student_name].index[0]\n",
    "\n",
    "    # Getting the pairwise similarity scores\n",
    "    sim_scores = list(enumerate(cosine_sim[idx]))\n",
    "\n",
    "    # Sorting students based on the similarity scores\n",
    "    sim_scores = sorted(sim_scores, key=lambda x: x[1], reverse=True)\n",
    "\n",
    "    # top 5 most similar students \n",
    "    sim_scores = sim_scores[1:6]\n",
    "\n",
    "    # indices of the similar students\n",
    "    student_indices = [i[0] for i in sim_scores]\n",
    "\n",
    "    # Return the top activities from similar students\n",
    "    top_activities = df['Desired Activities'].iloc[student_indices].values.tolist()\n",
    "    return top_activities\n",
    "\n",
    "# Example usage:\n",
    "student_name = \"Student_1\"\n",
    "recommended_activities = recommend_activities(student_name)\n",
    "print(f\"Recommended activities for {student_name}: {recommended_activities}\")\n"
   ]
  },
  {
   "cell_type": "code",
   "execution_count": null,
   "id": "aa71ccdb-54a7-45fb-96ca-84532c9f5c98",
   "metadata": {},
   "outputs": [],
   "source": [
    "\n"
   ]
  }
 ],
 "metadata": {
  "kernelspec": {
   "display_name": "Python 3 (ipykernel)",
   "language": "python",
   "name": "python3"
  },
  "language_info": {
   "codemirror_mode": {
    "name": "ipython",
    "version": 3
   },
   "file_extension": ".py",
   "mimetype": "text/x-python",
   "name": "python",
   "nbconvert_exporter": "python",
   "pygments_lexer": "ipython3",
   "version": "3.11.8"
  }
 },
 "nbformat": 4,
 "nbformat_minor": 5
}
