{
 "cells": [
  {
   "cell_type": "code",
   "execution_count": 3,
   "id": "f05dae1f-9953-42aa-b3ed-c898a219b85b",
   "metadata": {},
   "outputs": [
    {
     "name": "stdout",
     "output_type": "stream",
     "text": [
      "   Unnamed: 0       Name       Age  Gender       GPA  \\\n",
      "0           0  Student_1  1.600736       1 -0.260731   \n",
      "1           1  Student_2  0.733128       2  1.608790   \n",
      "2           2  Student_3  1.166932       1 -1.362413   \n",
      "3           3  Student_4 -1.435890       0 -1.095339   \n",
      "4           4  Student_5  0.299325       0  0.540492   \n",
      "\n",
      "            Extracurricular Activities       Career Interest  Internships  \\\n",
      "0  music band robotics club basketball               Finance    -0.320806   \n",
      "1               debate club music band            Counseling     1.324352   \n",
      "2  debate club volunteering basketball               Finance     0.501773   \n",
      "3                        robotics club  Software Development     1.324352   \n",
      "4  robotics club basketball music band     Mechanical Design    -0.320806   \n",
      "\n",
      "  Job Preferences  Work Experience  ... Major_y_Business Administration  \\\n",
      "0         On-site        -1.265596  ...                           False   \n",
      "1          Hybrid         0.025828  ...                           False   \n",
      "2          Remote         0.025828  ...                           False   \n",
      "3          Remote         1.317253  ...                           False   \n",
      "4         On-site        -1.265596  ...                           False   \n",
      "\n",
      "  Major_y_Computer Science  Major_y_Mechanical Engineering Major_y_Physics  \\\n",
      "0                     True                           False           False   \n",
      "1                    False                           False           False   \n",
      "2                    False                           False            True   \n",
      "3                    False                            True           False   \n",
      "4                     True                           False           False   \n",
      "\n",
      "  Major_y_Psychology  Major_Business Administration Major_Computer Science  \\\n",
      "0              False                          False                  False   \n",
      "1               True                          False                   True   \n",
      "2              False                          False                  False   \n",
      "3              False                          False                  False   \n",
      "4              False                          False                  False   \n",
      "\n",
      "   Major_Mechanical Engineering  Major_Physics Major_Psychology  \n",
      "0                          True          False            False  \n",
      "1                         False          False            False  \n",
      "2                         False          False             True  \n",
      "3                          True          False            False  \n",
      "4                         False           True            False  \n",
      "\n",
      "[5 rows x 40 columns]\n"
     ]
    },
    {
     "name": "stderr",
     "output_type": "stream",
     "text": [
      "[nltk_data] Downloading package punkt to /Users/tanya/nltk_data...\n",
      "[nltk_data]   Package punkt is already up-to-date!\n",
      "[nltk_data] Downloading package stopwords to /Users/tanya/nltk_data...\n",
      "[nltk_data]   Package stopwords is already up-to-date!\n",
      "[nltk_data] Downloading package wordnet to /Users/tanya/nltk_data...\n",
      "[nltk_data]   Package wordnet is already up-to-date!\n"
     ]
    }
   ],
   "source": [
    "import pandas as pd\n",
    "import nltk\n",
    "from nltk.corpus import stopwords\n",
    "from nltk.stem import WordNetLemmatizer\n",
    "from sklearn.preprocessing import LabelEncoder, StandardScaler\n",
    "from sklearn.model_selection import train_test_split\n",
    "from tensorflow.keras.preprocessing.text import Tokenizer\n",
    "from tensorflow.keras.preprocessing.sequence import pad_sequences\n",
    "import re\n",
    "\n",
    "# Load necessary NLTK resources\n",
    "nltk.download('punkt')\n",
    "nltk.download('stopwords')\n",
    "nltk.download('wordnet')\n",
    "\n",
    "# Load the dataset\n",
    "df = pd.read_csv(\"Comprehensive_Student_Dataset.csv\")\n",
    "\n",
    "# Text Preprocessing\n",
    "stop_words = set(stopwords.words('english'))\n",
    "lemmatizer = WordNetLemmatizer()\n",
    "\n",
    "def preprocess_text(text):\n",
    "    if isinstance(text, str):\n",
    "        text = re.sub(r'[^\\w\\s]', '', text, re.UNICODE)\n",
    "        text = text.lower()\n",
    "        tokens = nltk.word_tokenize(text)\n",
    "        tokens = [token for token in tokens if token not in stop_words]\n",
    "        tokens = [lemmatizer.lemmatize(token) for token in tokens]\n",
    "        return ' '.join(tokens)\n",
    "    else:\n",
    "        return ''\n",
    "\n",
    "text_columns = [\"Extracurricular Activities\", \"Skills_x\", \"Career Aspirations\", \"Social Interests\", \"Desired Activities\"]\n",
    "for col in text_columns:\n",
    "    df[col] = df[col].astype(str).apply(preprocess_text)\n",
    "\n",
    "# Handling Missing Values\n",
    "numerical_cols = ['Age', 'GPA', 'Internships', 'Work Experience', 'Year of Study_x', 'Year of Study_y']\n",
    "categorical_cols = ['Gender', 'Major_x', 'Learning Style', 'Major_y', 'Major']\n",
    "\n",
    "for col in numerical_cols:\n",
    "    if df[col].isnull().any():\n",
    "        df[col] = df[col].fillna(df[col].mean())\n",
    "\n",
    "for col in categorical_cols:\n",
    "    df[col] = df[col].fillna('Unknown')\n",
    "\n",
    "# Encoding Categorical Variables\n",
    "label_encoder = LabelEncoder()\n",
    "for col in ['Gender', 'Learning Style']:\n",
    "    df[col] = label_encoder.fit_transform(df[col])\n",
    "\n",
    "df = pd.get_dummies(df, columns=['Major_x', 'Major_y', 'Major'])\n",
    "\n",
    "# Scaling Numerical Features\n",
    "scaler = StandardScaler()\n",
    "numerical_cols = ['Age', 'GPA', 'Internships', 'Work Experience', 'Year of Study_x', 'Year of Study_y']\n",
    "df[numerical_cols] = scaler.fit_transform(df[numerical_cols])\n",
    "\n",
    "print(df.head())"
   ]
  },
  {
   "cell_type": "code",
   "execution_count": 20,
   "id": "22594b01-0ede-47fc-91c6-fdd9e3f12fc2",
   "metadata": {},
   "outputs": [
    {
     "data": {
      "application/javascript": [
       "\n",
       "        if (window._pyforest_update_imports_cell) { window._pyforest_update_imports_cell('from sklearn.feature_extraction.text import TfidfVectorizer\\nimport numpy as np'); }\n",
       "    "
      ],
      "text/plain": [
       "<IPython.core.display.Javascript object>"
      ]
     },
     "metadata": {},
     "output_type": "display_data"
    },
    {
     "data": {
      "application/javascript": [
       "\n",
       "        if (window._pyforest_update_imports_cell) { window._pyforest_update_imports_cell('from sklearn.feature_extraction.text import TfidfVectorizer\\nimport numpy as np'); }\n",
       "    "
      ],
      "text/plain": [
       "<IPython.core.display.Javascript object>"
      ]
     },
     "metadata": {},
     "output_type": "display_data"
    },
    {
     "data": {
      "application/javascript": [
       "\n",
       "        if (window._pyforest_update_imports_cell) { window._pyforest_update_imports_cell('from sklearn.feature_extraction.text import TfidfVectorizer\\nimport numpy as np'); }\n",
       "    "
      ],
      "text/plain": [
       "<IPython.core.display.Javascript object>"
      ]
     },
     "metadata": {},
     "output_type": "display_data"
    },
    {
     "data": {
      "application/javascript": [
       "\n",
       "        if (window._pyforest_update_imports_cell) { window._pyforest_update_imports_cell('from sklearn.feature_extraction.text import TfidfVectorizer\\nimport numpy as np'); }\n",
       "    "
      ],
      "text/plain": [
       "<IPython.core.display.Javascript object>"
      ]
     },
     "metadata": {},
     "output_type": "display_data"
    },
    {
     "data": {
      "application/javascript": [
       "\n",
       "        if (window._pyforest_update_imports_cell) { window._pyforest_update_imports_cell('from sklearn.feature_extraction.text import TfidfVectorizer\\nimport numpy as np'); }\n",
       "    "
      ],
      "text/plain": [
       "<IPython.core.display.Javascript object>"
      ]
     },
     "metadata": {},
     "output_type": "display_data"
    },
    {
     "data": {
      "application/javascript": [
       "\n",
       "        if (window._pyforest_update_imports_cell) { window._pyforest_update_imports_cell('from sklearn.feature_extraction.text import TfidfVectorizer\\nimport numpy as np'); }\n",
       "    "
      ],
      "text/plain": [
       "<IPython.core.display.Javascript object>"
      ]
     },
     "metadata": {},
     "output_type": "display_data"
    },
    {
     "data": {
      "application/javascript": [
       "\n",
       "        if (window._pyforest_update_imports_cell) { window._pyforest_update_imports_cell('from sklearn.feature_extraction.text import TfidfVectorizer\\nimport numpy as np'); }\n",
       "    "
      ],
      "text/plain": [
       "<IPython.core.display.Javascript object>"
      ]
     },
     "metadata": {},
     "output_type": "display_data"
    },
    {
     "data": {
      "application/javascript": [
       "\n",
       "        if (window._pyforest_update_imports_cell) { window._pyforest_update_imports_cell('from sklearn.feature_extraction.text import TfidfVectorizer\\nimport numpy as np'); }\n",
       "    "
      ],
      "text/plain": [
       "<IPython.core.display.Javascript object>"
      ]
     },
     "metadata": {},
     "output_type": "display_data"
    },
    {
     "data": {
      "application/javascript": [
       "\n",
       "        if (window._pyforest_update_imports_cell) { window._pyforest_update_imports_cell('from sklearn.feature_extraction.text import TfidfVectorizer\\nimport numpy as np'); }\n",
       "    "
      ],
      "text/plain": [
       "<IPython.core.display.Javascript object>"
      ]
     },
     "metadata": {},
     "output_type": "display_data"
    },
    {
     "data": {
      "application/javascript": [
       "\n",
       "        if (window._pyforest_update_imports_cell) { window._pyforest_update_imports_cell('from sklearn.feature_extraction.text import TfidfVectorizer\\nimport numpy as np'); }\n",
       "    "
      ],
      "text/plain": [
       "<IPython.core.display.Javascript object>"
      ]
     },
     "metadata": {},
     "output_type": "display_data"
    },
    {
     "data": {
      "application/javascript": [
       "\n",
       "        if (window._pyforest_update_imports_cell) { window._pyforest_update_imports_cell('from sklearn.feature_extraction.text import TfidfVectorizer\\nimport numpy as np'); }\n",
       "    "
      ],
      "text/plain": [
       "<IPython.core.display.Javascript object>"
      ]
     },
     "metadata": {},
     "output_type": "display_data"
    },
    {
     "data": {
      "application/javascript": [
       "\n",
       "        if (window._pyforest_update_imports_cell) { window._pyforest_update_imports_cell('from sklearn.feature_extraction.text import TfidfVectorizer\\nimport numpy as np'); }\n",
       "    "
      ],
      "text/plain": [
       "<IPython.core.display.Javascript object>"
      ]
     },
     "metadata": {},
     "output_type": "display_data"
    },
    {
     "data": {
      "application/javascript": [
       "\n",
       "        if (window._pyforest_update_imports_cell) { window._pyforest_update_imports_cell('from sklearn.feature_extraction.text import TfidfVectorizer\\nimport numpy as np'); }\n",
       "    "
      ],
      "text/plain": [
       "<IPython.core.display.Javascript object>"
      ]
     },
     "metadata": {},
     "output_type": "display_data"
    },
    {
     "data": {
      "application/javascript": [
       "\n",
       "        if (window._pyforest_update_imports_cell) { window._pyforest_update_imports_cell('from sklearn.feature_extraction.text import TfidfVectorizer\\nimport numpy as np'); }\n",
       "    "
      ],
      "text/plain": [
       "<IPython.core.display.Javascript object>"
      ]
     },
     "metadata": {},
     "output_type": "display_data"
    },
    {
     "data": {
      "application/javascript": [
       "\n",
       "        if (window._pyforest_update_imports_cell) { window._pyforest_update_imports_cell('from sklearn.feature_extraction.text import TfidfVectorizer\\nimport numpy as np'); }\n",
       "    "
      ],
      "text/plain": [
       "<IPython.core.display.Javascript object>"
      ]
     },
     "metadata": {},
     "output_type": "display_data"
    },
    {
     "data": {
      "application/javascript": [
       "\n",
       "        if (window._pyforest_update_imports_cell) { window._pyforest_update_imports_cell('from sklearn.feature_extraction.text import TfidfVectorizer\\nimport numpy as np'); }\n",
       "    "
      ],
      "text/plain": [
       "<IPython.core.display.Javascript object>"
      ]
     },
     "metadata": {},
     "output_type": "display_data"
    },
    {
     "data": {
      "application/javascript": [
       "\n",
       "        if (window._pyforest_update_imports_cell) { window._pyforest_update_imports_cell('from sklearn.feature_extraction.text import TfidfVectorizer\\nimport numpy as np'); }\n",
       "    "
      ],
      "text/plain": [
       "<IPython.core.display.Javascript object>"
      ]
     },
     "metadata": {},
     "output_type": "display_data"
    },
    {
     "data": {
      "application/javascript": [
       "\n",
       "        if (window._pyforest_update_imports_cell) { window._pyforest_update_imports_cell('from sklearn.feature_extraction.text import TfidfVectorizer\\nimport numpy as np'); }\n",
       "    "
      ],
      "text/plain": [
       "<IPython.core.display.Javascript object>"
      ]
     },
     "metadata": {},
     "output_type": "display_data"
    },
    {
     "data": {
      "application/javascript": [
       "\n",
       "        if (window._pyforest_update_imports_cell) { window._pyforest_update_imports_cell('from sklearn.feature_extraction.text import TfidfVectorizer\\nimport numpy as np'); }\n",
       "    "
      ],
      "text/plain": [
       "<IPython.core.display.Javascript object>"
      ]
     },
     "metadata": {},
     "output_type": "display_data"
    },
    {
     "data": {
      "application/javascript": [
       "\n",
       "        if (window._pyforest_update_imports_cell) { window._pyforest_update_imports_cell('from sklearn.feature_extraction.text import TfidfVectorizer\\nimport numpy as np'); }\n",
       "    "
      ],
      "text/plain": [
       "<IPython.core.display.Javascript object>"
      ]
     },
     "metadata": {},
     "output_type": "display_data"
    },
    {
     "data": {
      "application/javascript": [
       "\n",
       "        if (window._pyforest_update_imports_cell) { window._pyforest_update_imports_cell('from sklearn.feature_extraction.text import TfidfVectorizer\\nimport numpy as np'); }\n",
       "    "
      ],
      "text/plain": [
       "<IPython.core.display.Javascript object>"
      ]
     },
     "metadata": {},
     "output_type": "display_data"
    },
    {
     "data": {
      "application/javascript": [
       "\n",
       "        if (window._pyforest_update_imports_cell) { window._pyforest_update_imports_cell('from sklearn.feature_extraction.text import TfidfVectorizer\\nimport numpy as np'); }\n",
       "    "
      ],
      "text/plain": [
       "<IPython.core.display.Javascript object>"
      ]
     },
     "metadata": {},
     "output_type": "display_data"
    },
    {
     "data": {
      "application/javascript": [
       "\n",
       "        if (window._pyforest_update_imports_cell) { window._pyforest_update_imports_cell('from sklearn.feature_extraction.text import TfidfVectorizer\\nimport numpy as np'); }\n",
       "    "
      ],
      "text/plain": [
       "<IPython.core.display.Javascript object>"
      ]
     },
     "metadata": {},
     "output_type": "display_data"
    },
    {
     "data": {
      "application/javascript": [
       "\n",
       "        if (window._pyforest_update_imports_cell) { window._pyforest_update_imports_cell('from sklearn.feature_extraction.text import TfidfVectorizer\\nimport numpy as np'); }\n",
       "    "
      ],
      "text/plain": [
       "<IPython.core.display.Javascript object>"
      ]
     },
     "metadata": {},
     "output_type": "display_data"
    },
    {
     "data": {
      "application/javascript": [
       "\n",
       "        if (window._pyforest_update_imports_cell) { window._pyforest_update_imports_cell('from sklearn.feature_extraction.text import TfidfVectorizer\\nimport numpy as np'); }\n",
       "    "
      ],
      "text/plain": [
       "<IPython.core.display.Javascript object>"
      ]
     },
     "metadata": {},
     "output_type": "display_data"
    },
    {
     "data": {
      "application/javascript": [
       "\n",
       "        if (window._pyforest_update_imports_cell) { window._pyforest_update_imports_cell('from sklearn.feature_extraction.text import TfidfVectorizer\\nimport numpy as np'); }\n",
       "    "
      ],
      "text/plain": [
       "<IPython.core.display.Javascript object>"
      ]
     },
     "metadata": {},
     "output_type": "display_data"
    },
    {
     "data": {
      "application/javascript": [
       "\n",
       "        if (window._pyforest_update_imports_cell) { window._pyforest_update_imports_cell('from sklearn.feature_extraction.text import TfidfVectorizer\\nimport numpy as np'); }\n",
       "    "
      ],
      "text/plain": [
       "<IPython.core.display.Javascript object>"
      ]
     },
     "metadata": {},
     "output_type": "display_data"
    },
    {
     "data": {
      "application/javascript": [
       "\n",
       "        if (window._pyforest_update_imports_cell) { window._pyforest_update_imports_cell('from sklearn.feature_extraction.text import TfidfVectorizer\\nimport numpy as np'); }\n",
       "    "
      ],
      "text/plain": [
       "<IPython.core.display.Javascript object>"
      ]
     },
     "metadata": {},
     "output_type": "display_data"
    },
    {
     "data": {
      "application/javascript": [
       "\n",
       "        if (window._pyforest_update_imports_cell) { window._pyforest_update_imports_cell('from sklearn.feature_extraction.text import TfidfVectorizer\\nimport numpy as np'); }\n",
       "    "
      ],
      "text/plain": [
       "<IPython.core.display.Javascript object>"
      ]
     },
     "metadata": {},
     "output_type": "display_data"
    },
    {
     "data": {
      "application/javascript": [
       "\n",
       "        if (window._pyforest_update_imports_cell) { window._pyforest_update_imports_cell('from sklearn.feature_extraction.text import TfidfVectorizer\\nimport numpy as np'); }\n",
       "    "
      ],
      "text/plain": [
       "<IPython.core.display.Javascript object>"
      ]
     },
     "metadata": {},
     "output_type": "display_data"
    },
    {
     "data": {
      "application/javascript": [
       "\n",
       "        if (window._pyforest_update_imports_cell) { window._pyforest_update_imports_cell('from sklearn.feature_extraction.text import TfidfVectorizer\\nimport numpy as np'); }\n",
       "    "
      ],
      "text/plain": [
       "<IPython.core.display.Javascript object>"
      ]
     },
     "metadata": {},
     "output_type": "display_data"
    },
    {
     "data": {
      "application/javascript": [
       "\n",
       "        if (window._pyforest_update_imports_cell) { window._pyforest_update_imports_cell('from sklearn.feature_extraction.text import TfidfVectorizer\\nimport numpy as np'); }\n",
       "    "
      ],
      "text/plain": [
       "<IPython.core.display.Javascript object>"
      ]
     },
     "metadata": {},
     "output_type": "display_data"
    },
    {
     "data": {
      "application/javascript": [
       "\n",
       "        if (window._pyforest_update_imports_cell) { window._pyforest_update_imports_cell('from sklearn.feature_extraction.text import TfidfVectorizer\\nimport numpy as np'); }\n",
       "    "
      ],
      "text/plain": [
       "<IPython.core.display.Javascript object>"
      ]
     },
     "metadata": {},
     "output_type": "display_data"
    },
    {
     "data": {
      "application/javascript": [
       "\n",
       "        if (window._pyforest_update_imports_cell) { window._pyforest_update_imports_cell('from sklearn.feature_extraction.text import TfidfVectorizer\\nimport numpy as np'); }\n",
       "    "
      ],
      "text/plain": [
       "<IPython.core.display.Javascript object>"
      ]
     },
     "metadata": {},
     "output_type": "display_data"
    },
    {
     "data": {
      "application/javascript": [
       "\n",
       "        if (window._pyforest_update_imports_cell) { window._pyforest_update_imports_cell('from sklearn.feature_extraction.text import TfidfVectorizer\\nimport numpy as np'); }\n",
       "    "
      ],
      "text/plain": [
       "<IPython.core.display.Javascript object>"
      ]
     },
     "metadata": {},
     "output_type": "display_data"
    },
    {
     "data": {
      "application/javascript": [
       "\n",
       "        if (window._pyforest_update_imports_cell) { window._pyforest_update_imports_cell('from sklearn.feature_extraction.text import TfidfVectorizer\\nimport numpy as np'); }\n",
       "    "
      ],
      "text/plain": [
       "<IPython.core.display.Javascript object>"
      ]
     },
     "metadata": {},
     "output_type": "display_data"
    },
    {
     "data": {
      "application/javascript": [
       "\n",
       "        if (window._pyforest_update_imports_cell) { window._pyforest_update_imports_cell('from sklearn.feature_extraction.text import TfidfVectorizer\\nimport numpy as np'); }\n",
       "    "
      ],
      "text/plain": [
       "<IPython.core.display.Javascript object>"
      ]
     },
     "metadata": {},
     "output_type": "display_data"
    },
    {
     "data": {
      "application/javascript": [
       "\n",
       "        if (window._pyforest_update_imports_cell) { window._pyforest_update_imports_cell('from sklearn.feature_extraction.text import TfidfVectorizer\\nimport numpy as np'); }\n",
       "    "
      ],
      "text/plain": [
       "<IPython.core.display.Javascript object>"
      ]
     },
     "metadata": {},
     "output_type": "display_data"
    },
    {
     "data": {
      "application/javascript": [
       "\n",
       "        if (window._pyforest_update_imports_cell) { window._pyforest_update_imports_cell('from sklearn.feature_extraction.text import TfidfVectorizer\\nimport numpy as np'); }\n",
       "    "
      ],
      "text/plain": [
       "<IPython.core.display.Javascript object>"
      ]
     },
     "metadata": {},
     "output_type": "display_data"
    },
    {
     "data": {
      "application/javascript": [
       "\n",
       "        if (window._pyforest_update_imports_cell) { window._pyforest_update_imports_cell('from sklearn.feature_extraction.text import TfidfVectorizer\\nimport numpy as np'); }\n",
       "    "
      ],
      "text/plain": [
       "<IPython.core.display.Javascript object>"
      ]
     },
     "metadata": {},
     "output_type": "display_data"
    },
    {
     "data": {
      "application/javascript": [
       "\n",
       "        if (window._pyforest_update_imports_cell) { window._pyforest_update_imports_cell('from sklearn.feature_extraction.text import TfidfVectorizer\\nimport numpy as np'); }\n",
       "    "
      ],
      "text/plain": [
       "<IPython.core.display.Javascript object>"
      ]
     },
     "metadata": {},
     "output_type": "display_data"
    },
    {
     "data": {
      "application/javascript": [
       "\n",
       "        if (window._pyforest_update_imports_cell) { window._pyforest_update_imports_cell('from sklearn.feature_extraction.text import TfidfVectorizer\\nimport numpy as np'); }\n",
       "    "
      ],
      "text/plain": [
       "<IPython.core.display.Javascript object>"
      ]
     },
     "metadata": {},
     "output_type": "display_data"
    },
    {
     "data": {
      "application/javascript": [
       "\n",
       "        if (window._pyforest_update_imports_cell) { window._pyforest_update_imports_cell('from sklearn.feature_extraction.text import TfidfVectorizer\\nimport numpy as np'); }\n",
       "    "
      ],
      "text/plain": [
       "<IPython.core.display.Javascript object>"
      ]
     },
     "metadata": {},
     "output_type": "display_data"
    },
    {
     "data": {
      "application/javascript": [
       "\n",
       "        if (window._pyforest_update_imports_cell) { window._pyforest_update_imports_cell('from sklearn.feature_extraction.text import TfidfVectorizer\\nimport numpy as np'); }\n",
       "    "
      ],
      "text/plain": [
       "<IPython.core.display.Javascript object>"
      ]
     },
     "metadata": {},
     "output_type": "display_data"
    },
    {
     "data": {
      "application/javascript": [
       "\n",
       "        if (window._pyforest_update_imports_cell) { window._pyforest_update_imports_cell('from sklearn.feature_extraction.text import TfidfVectorizer\\nimport numpy as np'); }\n",
       "    "
      ],
      "text/plain": [
       "<IPython.core.display.Javascript object>"
      ]
     },
     "metadata": {},
     "output_type": "display_data"
    },
    {
     "data": {
      "application/javascript": [
       "\n",
       "        if (window._pyforest_update_imports_cell) { window._pyforest_update_imports_cell('from sklearn.feature_extraction.text import TfidfVectorizer\\nimport numpy as np'); }\n",
       "    "
      ],
      "text/plain": [
       "<IPython.core.display.Javascript object>"
      ]
     },
     "metadata": {},
     "output_type": "display_data"
    },
    {
     "data": {
      "application/javascript": [
       "\n",
       "        if (window._pyforest_update_imports_cell) { window._pyforest_update_imports_cell('from sklearn.feature_extraction.text import TfidfVectorizer\\nimport numpy as np'); }\n",
       "    "
      ],
      "text/plain": [
       "<IPython.core.display.Javascript object>"
      ]
     },
     "metadata": {},
     "output_type": "display_data"
    },
    {
     "data": {
      "application/javascript": [
       "\n",
       "        if (window._pyforest_update_imports_cell) { window._pyforest_update_imports_cell('from sklearn.feature_extraction.text import TfidfVectorizer\\nimport numpy as np'); }\n",
       "    "
      ],
      "text/plain": [
       "<IPython.core.display.Javascript object>"
      ]
     },
     "metadata": {},
     "output_type": "display_data"
    },
    {
     "data": {
      "application/javascript": [
       "\n",
       "        if (window._pyforest_update_imports_cell) { window._pyforest_update_imports_cell('from sklearn.feature_extraction.text import TfidfVectorizer\\nimport numpy as np'); }\n",
       "    "
      ],
      "text/plain": [
       "<IPython.core.display.Javascript object>"
      ]
     },
     "metadata": {},
     "output_type": "display_data"
    },
    {
     "data": {
      "application/javascript": [
       "\n",
       "        if (window._pyforest_update_imports_cell) { window._pyforest_update_imports_cell('from sklearn.feature_extraction.text import TfidfVectorizer\\nimport numpy as np'); }\n",
       "    "
      ],
      "text/plain": [
       "<IPython.core.display.Javascript object>"
      ]
     },
     "metadata": {},
     "output_type": "display_data"
    },
    {
     "data": {
      "application/javascript": [
       "\n",
       "        if (window._pyforest_update_imports_cell) { window._pyforest_update_imports_cell('from sklearn.feature_extraction.text import TfidfVectorizer\\nimport numpy as np'); }\n",
       "    "
      ],
      "text/plain": [
       "<IPython.core.display.Javascript object>"
      ]
     },
     "metadata": {},
     "output_type": "display_data"
    },
    {
     "data": {
      "application/javascript": [
       "\n",
       "        if (window._pyforest_update_imports_cell) { window._pyforest_update_imports_cell('from sklearn.feature_extraction.text import TfidfVectorizer\\nimport numpy as np'); }\n",
       "    "
      ],
      "text/plain": [
       "<IPython.core.display.Javascript object>"
      ]
     },
     "metadata": {},
     "output_type": "display_data"
    },
    {
     "data": {
      "application/javascript": [
       "\n",
       "        if (window._pyforest_update_imports_cell) { window._pyforest_update_imports_cell('from sklearn.feature_extraction.text import TfidfVectorizer\\nimport numpy as np'); }\n",
       "    "
      ],
      "text/plain": [
       "<IPython.core.display.Javascript object>"
      ]
     },
     "metadata": {},
     "output_type": "display_data"
    },
    {
     "data": {
      "application/javascript": [
       "\n",
       "        if (window._pyforest_update_imports_cell) { window._pyforest_update_imports_cell('from sklearn.feature_extraction.text import TfidfVectorizer\\nimport numpy as np'); }\n",
       "    "
      ],
      "text/plain": [
       "<IPython.core.display.Javascript object>"
      ]
     },
     "metadata": {},
     "output_type": "display_data"
    },
    {
     "data": {
      "application/javascript": [
       "\n",
       "        if (window._pyforest_update_imports_cell) { window._pyforest_update_imports_cell('from sklearn.feature_extraction.text import TfidfVectorizer\\nimport numpy as np'); }\n",
       "    "
      ],
      "text/plain": [
       "<IPython.core.display.Javascript object>"
      ]
     },
     "metadata": {},
     "output_type": "display_data"
    },
    {
     "data": {
      "application/javascript": [
       "\n",
       "        if (window._pyforest_update_imports_cell) { window._pyforest_update_imports_cell('from sklearn.feature_extraction.text import TfidfVectorizer\\nimport numpy as np'); }\n",
       "    "
      ],
      "text/plain": [
       "<IPython.core.display.Javascript object>"
      ]
     },
     "metadata": {},
     "output_type": "display_data"
    },
    {
     "data": {
      "application/javascript": [
       "\n",
       "        if (window._pyforest_update_imports_cell) { window._pyforest_update_imports_cell('from sklearn.feature_extraction.text import TfidfVectorizer\\nimport numpy as np'); }\n",
       "    "
      ],
      "text/plain": [
       "<IPython.core.display.Javascript object>"
      ]
     },
     "metadata": {},
     "output_type": "display_data"
    },
    {
     "data": {
      "application/javascript": [
       "\n",
       "        if (window._pyforest_update_imports_cell) { window._pyforest_update_imports_cell('from sklearn.feature_extraction.text import TfidfVectorizer\\nimport numpy as np'); }\n",
       "    "
      ],
      "text/plain": [
       "<IPython.core.display.Javascript object>"
      ]
     },
     "metadata": {},
     "output_type": "display_data"
    },
    {
     "data": {
      "application/javascript": [
       "\n",
       "        if (window._pyforest_update_imports_cell) { window._pyforest_update_imports_cell('from sklearn.feature_extraction.text import TfidfVectorizer\\nimport numpy as np'); }\n",
       "    "
      ],
      "text/plain": [
       "<IPython.core.display.Javascript object>"
      ]
     },
     "metadata": {},
     "output_type": "display_data"
    },
    {
     "data": {
      "application/javascript": [
       "\n",
       "        if (window._pyforest_update_imports_cell) { window._pyforest_update_imports_cell('from sklearn.feature_extraction.text import TfidfVectorizer\\nimport numpy as np'); }\n",
       "    "
      ],
      "text/plain": [
       "<IPython.core.display.Javascript object>"
      ]
     },
     "metadata": {},
     "output_type": "display_data"
    },
    {
     "data": {
      "application/javascript": [
       "\n",
       "        if (window._pyforest_update_imports_cell) { window._pyforest_update_imports_cell('from sklearn.feature_extraction.text import TfidfVectorizer\\nimport numpy as np'); }\n",
       "    "
      ],
      "text/plain": [
       "<IPython.core.display.Javascript object>"
      ]
     },
     "metadata": {},
     "output_type": "display_data"
    },
    {
     "data": {
      "application/javascript": [
       "\n",
       "        if (window._pyforest_update_imports_cell) { window._pyforest_update_imports_cell('from sklearn.feature_extraction.text import TfidfVectorizer\\nimport numpy as np'); }\n",
       "    "
      ],
      "text/plain": [
       "<IPython.core.display.Javascript object>"
      ]
     },
     "metadata": {},
     "output_type": "display_data"
    },
    {
     "data": {
      "application/javascript": [
       "\n",
       "        if (window._pyforest_update_imports_cell) { window._pyforest_update_imports_cell('from sklearn.feature_extraction.text import TfidfVectorizer\\nimport numpy as np'); }\n",
       "    "
      ],
      "text/plain": [
       "<IPython.core.display.Javascript object>"
      ]
     },
     "metadata": {},
     "output_type": "display_data"
    },
    {
     "data": {
      "application/javascript": [
       "\n",
       "        if (window._pyforest_update_imports_cell) { window._pyforest_update_imports_cell('from sklearn.feature_extraction.text import TfidfVectorizer\\nimport numpy as np'); }\n",
       "    "
      ],
      "text/plain": [
       "<IPython.core.display.Javascript object>"
      ]
     },
     "metadata": {},
     "output_type": "display_data"
    },
    {
     "data": {
      "application/javascript": [
       "\n",
       "        if (window._pyforest_update_imports_cell) { window._pyforest_update_imports_cell('from sklearn.feature_extraction.text import TfidfVectorizer\\nimport numpy as np'); }\n",
       "    "
      ],
      "text/plain": [
       "<IPython.core.display.Javascript object>"
      ]
     },
     "metadata": {},
     "output_type": "display_data"
    },
    {
     "data": {
      "application/javascript": [
       "\n",
       "        if (window._pyforest_update_imports_cell) { window._pyforest_update_imports_cell('from sklearn.feature_extraction.text import TfidfVectorizer\\nimport numpy as np'); }\n",
       "    "
      ],
      "text/plain": [
       "<IPython.core.display.Javascript object>"
      ]
     },
     "metadata": {},
     "output_type": "display_data"
    },
    {
     "data": {
      "application/javascript": [
       "\n",
       "        if (window._pyforest_update_imports_cell) { window._pyforest_update_imports_cell('from sklearn.feature_extraction.text import TfidfVectorizer\\nimport numpy as np'); }\n",
       "    "
      ],
      "text/plain": [
       "<IPython.core.display.Javascript object>"
      ]
     },
     "metadata": {},
     "output_type": "display_data"
    },
    {
     "data": {
      "application/javascript": [
       "\n",
       "        if (window._pyforest_update_imports_cell) { window._pyforest_update_imports_cell('from sklearn.feature_extraction.text import TfidfVectorizer\\nimport numpy as np'); }\n",
       "    "
      ],
      "text/plain": [
       "<IPython.core.display.Javascript object>"
      ]
     },
     "metadata": {},
     "output_type": "display_data"
    },
    {
     "data": {
      "application/javascript": [
       "\n",
       "        if (window._pyforest_update_imports_cell) { window._pyforest_update_imports_cell('from sklearn.feature_extraction.text import TfidfVectorizer\\nimport numpy as np'); }\n",
       "    "
      ],
      "text/plain": [
       "<IPython.core.display.Javascript object>"
      ]
     },
     "metadata": {},
     "output_type": "display_data"
    },
    {
     "data": {
      "application/javascript": [
       "\n",
       "        if (window._pyforest_update_imports_cell) { window._pyforest_update_imports_cell('from sklearn.feature_extraction.text import TfidfVectorizer\\nimport numpy as np'); }\n",
       "    "
      ],
      "text/plain": [
       "<IPython.core.display.Javascript object>"
      ]
     },
     "metadata": {},
     "output_type": "display_data"
    },
    {
     "data": {
      "application/javascript": [
       "\n",
       "        if (window._pyforest_update_imports_cell) { window._pyforest_update_imports_cell('from sklearn.feature_extraction.text import TfidfVectorizer\\nimport numpy as np'); }\n",
       "    "
      ],
      "text/plain": [
       "<IPython.core.display.Javascript object>"
      ]
     },
     "metadata": {},
     "output_type": "display_data"
    },
    {
     "data": {
      "application/javascript": [
       "\n",
       "        if (window._pyforest_update_imports_cell) { window._pyforest_update_imports_cell('from sklearn.feature_extraction.text import TfidfVectorizer\\nimport numpy as np'); }\n",
       "    "
      ],
      "text/plain": [
       "<IPython.core.display.Javascript object>"
      ]
     },
     "metadata": {},
     "output_type": "display_data"
    },
    {
     "data": {
      "application/javascript": [
       "\n",
       "        if (window._pyforest_update_imports_cell) { window._pyforest_update_imports_cell('from sklearn.feature_extraction.text import TfidfVectorizer\\nimport numpy as np'); }\n",
       "    "
      ],
      "text/plain": [
       "<IPython.core.display.Javascript object>"
      ]
     },
     "metadata": {},
     "output_type": "display_data"
    },
    {
     "data": {
      "application/javascript": [
       "\n",
       "        if (window._pyforest_update_imports_cell) { window._pyforest_update_imports_cell('from sklearn.feature_extraction.text import TfidfVectorizer\\nimport numpy as np'); }\n",
       "    "
      ],
      "text/plain": [
       "<IPython.core.display.Javascript object>"
      ]
     },
     "metadata": {},
     "output_type": "display_data"
    },
    {
     "data": {
      "application/javascript": [
       "\n",
       "        if (window._pyforest_update_imports_cell) { window._pyforest_update_imports_cell('from sklearn.feature_extraction.text import TfidfVectorizer\\nimport numpy as np'); }\n",
       "    "
      ],
      "text/plain": [
       "<IPython.core.display.Javascript object>"
      ]
     },
     "metadata": {},
     "output_type": "display_data"
    },
    {
     "data": {
      "application/javascript": [
       "\n",
       "        if (window._pyforest_update_imports_cell) { window._pyforest_update_imports_cell('from sklearn.feature_extraction.text import TfidfVectorizer\\nimport numpy as np'); }\n",
       "    "
      ],
      "text/plain": [
       "<IPython.core.display.Javascript object>"
      ]
     },
     "metadata": {},
     "output_type": "display_data"
    },
    {
     "data": {
      "application/javascript": [
       "\n",
       "        if (window._pyforest_update_imports_cell) { window._pyforest_update_imports_cell('from sklearn.feature_extraction.text import TfidfVectorizer\\nimport numpy as np'); }\n",
       "    "
      ],
      "text/plain": [
       "<IPython.core.display.Javascript object>"
      ]
     },
     "metadata": {},
     "output_type": "display_data"
    },
    {
     "data": {
      "application/javascript": [
       "\n",
       "        if (window._pyforest_update_imports_cell) { window._pyforest_update_imports_cell('from sklearn.feature_extraction.text import TfidfVectorizer\\nimport numpy as np'); }\n",
       "    "
      ],
      "text/plain": [
       "<IPython.core.display.Javascript object>"
      ]
     },
     "metadata": {},
     "output_type": "display_data"
    },
    {
     "data": {
      "application/javascript": [
       "\n",
       "        if (window._pyforest_update_imports_cell) { window._pyforest_update_imports_cell('from sklearn.feature_extraction.text import TfidfVectorizer\\nimport numpy as np'); }\n",
       "    "
      ],
      "text/plain": [
       "<IPython.core.display.Javascript object>"
      ]
     },
     "metadata": {},
     "output_type": "display_data"
    },
    {
     "data": {
      "application/javascript": [
       "\n",
       "        if (window._pyforest_update_imports_cell) { window._pyforest_update_imports_cell('from sklearn.feature_extraction.text import TfidfVectorizer\\nimport numpy as np'); }\n",
       "    "
      ],
      "text/plain": [
       "<IPython.core.display.Javascript object>"
      ]
     },
     "metadata": {},
     "output_type": "display_data"
    },
    {
     "data": {
      "application/javascript": [
       "\n",
       "        if (window._pyforest_update_imports_cell) { window._pyforest_update_imports_cell('from sklearn.feature_extraction.text import TfidfVectorizer\\nimport numpy as np'); }\n",
       "    "
      ],
      "text/plain": [
       "<IPython.core.display.Javascript object>"
      ]
     },
     "metadata": {},
     "output_type": "display_data"
    },
    {
     "data": {
      "application/javascript": [
       "\n",
       "        if (window._pyforest_update_imports_cell) { window._pyforest_update_imports_cell('from sklearn.feature_extraction.text import TfidfVectorizer\\nimport numpy as np'); }\n",
       "    "
      ],
      "text/plain": [
       "<IPython.core.display.Javascript object>"
      ]
     },
     "metadata": {},
     "output_type": "display_data"
    },
    {
     "data": {
      "application/javascript": [
       "\n",
       "        if (window._pyforest_update_imports_cell) { window._pyforest_update_imports_cell('from sklearn.feature_extraction.text import TfidfVectorizer\\nimport numpy as np'); }\n",
       "    "
      ],
      "text/plain": [
       "<IPython.core.display.Javascript object>"
      ]
     },
     "metadata": {},
     "output_type": "display_data"
    },
    {
     "data": {
      "application/javascript": [
       "\n",
       "        if (window._pyforest_update_imports_cell) { window._pyforest_update_imports_cell('from sklearn.feature_extraction.text import TfidfVectorizer\\nimport numpy as np'); }\n",
       "    "
      ],
      "text/plain": [
       "<IPython.core.display.Javascript object>"
      ]
     },
     "metadata": {},
     "output_type": "display_data"
    },
    {
     "data": {
      "application/javascript": [
       "\n",
       "        if (window._pyforest_update_imports_cell) { window._pyforest_update_imports_cell('from sklearn.feature_extraction.text import TfidfVectorizer\\nimport numpy as np'); }\n",
       "    "
      ],
      "text/plain": [
       "<IPython.core.display.Javascript object>"
      ]
     },
     "metadata": {},
     "output_type": "display_data"
    },
    {
     "data": {
      "application/javascript": [
       "\n",
       "        if (window._pyforest_update_imports_cell) { window._pyforest_update_imports_cell('from sklearn.feature_extraction.text import TfidfVectorizer\\nimport numpy as np'); }\n",
       "    "
      ],
      "text/plain": [
       "<IPython.core.display.Javascript object>"
      ]
     },
     "metadata": {},
     "output_type": "display_data"
    },
    {
     "data": {
      "application/javascript": [
       "\n",
       "        if (window._pyforest_update_imports_cell) { window._pyforest_update_imports_cell('from sklearn.feature_extraction.text import TfidfVectorizer\\nimport numpy as np'); }\n",
       "    "
      ],
      "text/plain": [
       "<IPython.core.display.Javascript object>"
      ]
     },
     "metadata": {},
     "output_type": "display_data"
    },
    {
     "data": {
      "application/javascript": [
       "\n",
       "        if (window._pyforest_update_imports_cell) { window._pyforest_update_imports_cell('from sklearn.feature_extraction.text import TfidfVectorizer\\nimport numpy as np'); }\n",
       "    "
      ],
      "text/plain": [
       "<IPython.core.display.Javascript object>"
      ]
     },
     "metadata": {},
     "output_type": "display_data"
    },
    {
     "data": {
      "application/javascript": [
       "\n",
       "        if (window._pyforest_update_imports_cell) { window._pyforest_update_imports_cell('from sklearn.feature_extraction.text import TfidfVectorizer\\nimport numpy as np'); }\n",
       "    "
      ],
      "text/plain": [
       "<IPython.core.display.Javascript object>"
      ]
     },
     "metadata": {},
     "output_type": "display_data"
    },
    {
     "data": {
      "application/javascript": [
       "\n",
       "        if (window._pyforest_update_imports_cell) { window._pyforest_update_imports_cell('from sklearn.feature_extraction.text import TfidfVectorizer\\nimport numpy as np'); }\n",
       "    "
      ],
      "text/plain": [
       "<IPython.core.display.Javascript object>"
      ]
     },
     "metadata": {},
     "output_type": "display_data"
    },
    {
     "data": {
      "application/javascript": [
       "\n",
       "        if (window._pyforest_update_imports_cell) { window._pyforest_update_imports_cell('from sklearn.feature_extraction.text import TfidfVectorizer\\nimport numpy as np'); }\n",
       "    "
      ],
      "text/plain": [
       "<IPython.core.display.Javascript object>"
      ]
     },
     "metadata": {},
     "output_type": "display_data"
    },
    {
     "data": {
      "application/javascript": [
       "\n",
       "        if (window._pyforest_update_imports_cell) { window._pyforest_update_imports_cell('from sklearn.feature_extraction.text import TfidfVectorizer\\nimport numpy as np'); }\n",
       "    "
      ],
      "text/plain": [
       "<IPython.core.display.Javascript object>"
      ]
     },
     "metadata": {},
     "output_type": "display_data"
    },
    {
     "data": {
      "application/javascript": [
       "\n",
       "        if (window._pyforest_update_imports_cell) { window._pyforest_update_imports_cell('from sklearn.feature_extraction.text import TfidfVectorizer\\nimport numpy as np'); }\n",
       "    "
      ],
      "text/plain": [
       "<IPython.core.display.Javascript object>"
      ]
     },
     "metadata": {},
     "output_type": "display_data"
    },
    {
     "data": {
      "application/javascript": [
       "\n",
       "        if (window._pyforest_update_imports_cell) { window._pyforest_update_imports_cell('from sklearn.feature_extraction.text import TfidfVectorizer\\nimport numpy as np'); }\n",
       "    "
      ],
      "text/plain": [
       "<IPython.core.display.Javascript object>"
      ]
     },
     "metadata": {},
     "output_type": "display_data"
    },
    {
     "data": {
      "application/javascript": [
       "\n",
       "        if (window._pyforest_update_imports_cell) { window._pyforest_update_imports_cell('from sklearn.feature_extraction.text import TfidfVectorizer\\nimport numpy as np'); }\n",
       "    "
      ],
      "text/plain": [
       "<IPython.core.display.Javascript object>"
      ]
     },
     "metadata": {},
     "output_type": "display_data"
    },
    {
     "data": {
      "application/javascript": [
       "\n",
       "        if (window._pyforest_update_imports_cell) { window._pyforest_update_imports_cell('from sklearn.feature_extraction.text import TfidfVectorizer\\nimport numpy as np'); }\n",
       "    "
      ],
      "text/plain": [
       "<IPython.core.display.Javascript object>"
      ]
     },
     "metadata": {},
     "output_type": "display_data"
    },
    {
     "data": {
      "application/javascript": [
       "\n",
       "        if (window._pyforest_update_imports_cell) { window._pyforest_update_imports_cell('from sklearn.feature_extraction.text import TfidfVectorizer\\nimport numpy as np'); }\n",
       "    "
      ],
      "text/plain": [
       "<IPython.core.display.Javascript object>"
      ]
     },
     "metadata": {},
     "output_type": "display_data"
    },
    {
     "data": {
      "application/javascript": [
       "\n",
       "        if (window._pyforest_update_imports_cell) { window._pyforest_update_imports_cell('from sklearn.feature_extraction.text import TfidfVectorizer\\nimport numpy as np'); }\n",
       "    "
      ],
      "text/plain": [
       "<IPython.core.display.Javascript object>"
      ]
     },
     "metadata": {},
     "output_type": "display_data"
    },
    {
     "data": {
      "application/javascript": [
       "\n",
       "        if (window._pyforest_update_imports_cell) { window._pyforest_update_imports_cell('from sklearn.feature_extraction.text import TfidfVectorizer\\nimport numpy as np'); }\n",
       "    "
      ],
      "text/plain": [
       "<IPython.core.display.Javascript object>"
      ]
     },
     "metadata": {},
     "output_type": "display_data"
    },
    {
     "data": {
      "application/javascript": [
       "\n",
       "        if (window._pyforest_update_imports_cell) { window._pyforest_update_imports_cell('from sklearn.feature_extraction.text import TfidfVectorizer\\nimport numpy as np'); }\n",
       "    "
      ],
      "text/plain": [
       "<IPython.core.display.Javascript object>"
      ]
     },
     "metadata": {},
     "output_type": "display_data"
    }
   ],
   "source": [
    "# Feature Engineering\n",
    "\n",
    "# 1. Weighted sum of course performance based on learning style\n",
    "def calculate_weighted_course_performance(row):\n",
    "    try:\n",
    "        course_performance = eval(row['Course Performance']) # Safely evaluate the string as a dictionary\n",
    "        learning_style = row['Learning Style']\n",
    "        total_weighted_score = 0\n",
    "        total_courses = 0\n",
    "\n",
    "        # Define weights for each learning style\n",
    "        weights = {\n",
    "            0: {'Computer Science': 0.8, 'History': 0.2, 'Physics': 0.7, 'Mathematics': 0.9, 'Engineering': 0.7},   # Auditory\n",
    "            1: {'Computer Science': 0.9, 'History': 0.9, 'Physics': 0.8, 'Mathematics': 0.7, 'Engineering': 0.6},   # Kinesthetic\n",
    "            2: {'Computer Science': 0.7, 'History': 0.6, 'Physics': 0.9, 'Mathematics': 0.8, 'Engineering': 0.9},    # Reading/Writing\n",
    "            3: {'Computer Science': 0.6, 'History': 0.7, 'Physics': 0.6, 'Mathematics': 0.6, 'Engineering': 0.6}     # Visual\n",
    "        }\n",
    "        # Ensure learning_style is within the valid range\n",
    "        learning_style = learning_style % len(weights)\n",
    "\n",
    "        for course, performance in course_performance.items():\n",
    "            if course in weights[learning_style]:\n",
    "                weight = weights[learning_style][course]\n",
    "                total_weighted_score += weight * performance\n",
    "                total_courses += 1\n",
    "\n",
    "        if total_courses > 0:\n",
    "            return total_weighted_score / total_courses\n",
    "        else:\n",
    "            return 0  # Return 0 if no courses are found\n",
    "    except Exception as e:\n",
    "        print(f\"Error in calculate_weighted_course_performance: {e}\")\n",
    "        return 0\n",
    "\n",
    "df['Weighted_Course_Performance'] = df.apply(calculate_weighted_course_performance, axis=1)\n",
    "\n",
    "# 2. Extract information from \"Courses Taken\"\n",
    "def safe_eval(x):\n",
    "    try:\n",
    "        return eval(x)\n",
    "    except (SyntaxError, NameError, TypeError):\n",
    "        return []\n",
    "\n",
    "df['Number_of_Courses_Taken'] = df['Courses Taken'].apply(lambda x: len(safe_eval(x)) if isinstance(x, str) else 0)\n",
    "\n",
    "\n",
    "# Function to safely evaluate the string and calculate average performance\n",
    "def calculate_average_performance(row):\n",
    "    try:\n",
    "        performance_dict = eval(row['Course Performance'])\n",
    "        return np.mean(list(performance_dict.values()))\n",
    "    except (SyntaxError, NameError, TypeError):\n",
    "        return np.nan  # Handle cases where evaluation fails\n",
    "\n",
    "df['Average_Course_Performance'] = df.apply(calculate_average_performance, axis=1)\n",
    "\n",
    "# 3. Interaction feature between \"Major\" and \"Career Interest\"\n",
    "# Combining major columns into one\n",
    "major_cols = [col for col in df.columns if 'Major_' in col]\n",
    "df['Combined_Major'] = df[major_cols].apply(lambda row: '_'.join(row[row == 1].index), axis=1)\n",
    "\n",
    "# Creating interaction feature\n",
    "df['Major_Career_Interaction'] = df['Combined_Major'] + '_' + df['Career Interest']"
   ]
  },
  {
   "cell_type": "code",
   "execution_count": 21,
   "id": "d91c807b-b1b1-47cc-8bf4-f7040f944f36",
   "metadata": {},
   "outputs": [],
   "source": [
    "from sklearn.metrics.pairwise import cosine_similarity"
   ]
  },
  {
   "cell_type": "code",
   "execution_count": 22,
   "id": "e055762a-e96e-4c69-9ba0-5147b7d24eb1",
   "metadata": {},
   "outputs": [
    {
     "name": "stdout",
     "output_type": "stream",
     "text": [
      "Recommended activities for Student_1: ['hackathons dance club', 'community service debate society', 'debate society dance club', 'music club', 'community service hackathons']\n"
     ]
    }
   ],
   "source": [
    "# Content-Based Filtering\n",
    "\n",
    "# 1. Activity Profiles & User Profiles\n",
    "# Combine user features into a single string\n",
    "user_profile_cols = ['Combined_Major', 'Skills_x', 'Career Aspirations', 'Social Interests']\n",
    "df['user_profile'] = df[user_profile_cols].apply(lambda x: ' '.join(x), axis=1)\n",
    "\n",
    "# Use the same TfidfVectorizer for both activities and users\n",
    "tfidf_vectorizer = TfidfVectorizer(stop_words='english')\n",
    "\n",
    "# Fit on both activity descriptions and user profiles\n",
    "tfidf_vectorizer.fit(df['Desired Activities'].astype(str).tolist() + df['user_profile'].astype(str).tolist())\n",
    "\n",
    "# Transform activity descriptions and user profiles\n",
    "activity_tfidf_matrix = tfidf_vectorizer.transform(df['Desired Activities'])\n",
    "user_tfidf_matrix = tfidf_vectorizer.transform(df['user_profile'])\n",
    "\n",
    "\n",
    "# 2. Calculate Similarity\n",
    "cosine_sim_users_activities = cosine_similarity(user_tfidf_matrix, activity_tfidf_matrix)\n",
    "\n",
    "def recommend_activities_content_based(student_name, cosine_sim=cosine_sim_users_activities, df=df):\n",
    "    \"\"\"\n",
    "    Recommends activities for a given student based on content-based filtering.\n",
    "    \"\"\"\n",
    "    # Get the index of the student\n",
    "    idx = df[df['Name'] == student_name].index[0]\n",
    "\n",
    "    # Get the pairwise similarity scores\n",
    "    sim_scores = list(enumerate(cosine_sim[idx]))\n",
    "\n",
    "    # Sort the activities based on the similarity scores\n",
    "    sim_scores = sorted(sim_scores, key=lambda x: x[1], reverse=True)\n",
    "\n",
    "    # Get the top 5 most similar activities\n",
    "    sim_scores = sim_scores[0:5]\n",
    "\n",
    "    # Get the indices of the similar activities\n",
    "    activity_indices = [i[0] for i in sim_scores]\n",
    "\n",
    "    # Return the top activities\n",
    "    top_activities = df['Desired Activities'].iloc[activity_indices].values.tolist()\n",
    "    return top_activities\n",
    "\n",
    "# Example usage:\n",
    "student_name = \"Student_1\"\n",
    "recommended_activities = recommend_activities_content_based(student_name)\n",
    "print(f\"Recommended activities for {student_name}: {recommended_activities}\")"
   ]
  },
  {
   "cell_type": "code",
   "execution_count": 23,
   "id": "a0d96a73-d83e-400f-ba27-0e838722429a",
   "metadata": {},
   "outputs": [],
   "source": [
    "from sklearn.feature_extraction.text import TfidfVectorizer\n",
    "from sklearn.ensemble import RandomForestClassifier\n",
    "from sklearn.metrics import classification_report"
   ]
  },
  {
   "cell_type": "code",
   "execution_count": 24,
   "id": "9ccac98d-19c3-4e12-a44b-ff07247c9000",
   "metadata": {},
   "outputs": [
    {
     "ename": "TypeError",
     "evalue": "Could not convert ['Major_x_Business Administration_Major_y_Psychology_Major_Business Administration_Mechanical DesignMajor_x_Mechanical Engineering_Major_y_Business Administration_Major_Business Administration_Mechanical DesignMajor_x_Business Administration_Major_y_Business Administration_Major_Psychology_CounselingMajor_x_Physics_Major_y_Business Administration_Major_Physics_Software DevelopmentMajor_x_Mechanical Engineering_Major_y_Mechanical Engineering_Major_Computer Science_ResearchMajor_x_Psychology_Major_y_Computer Science_Major_Business Administration_CounselingMajor_x_Computer Science_Major_y_Mechanical Engineering_Major_Psychology_Software DevelopmentMajor_x_Psychology_Major_y_Computer Science_Major_Computer Science_Mechanical DesignMajor_x_Mechanical Engineering_Major_y_Computer Science_Major_Psychology_ResearchMajor_x_Mechanical Engineering_Major_y_Mechanical Engineering_Major_Physics_Software DevelopmentMajor_x_Mechanical Engineering_Major_y_Physics_Major_Mechanical Engineering_CounselingMajor_x_Psychology_Major_y_Business Administration_Major_Physics_CounselingMajor_x_Mechanical Engineering_Major_y_Psychology_Major_Psychology_Software DevelopmentMajor_x_Business Administration_Major_y_Psychology_Major_Mechanical Engineering_ResearchMajor_x_Mechanical Engineering_Major_y_Psychology_Major_Mechanical Engineering_CounselingMajor_x_Business Administration_Major_y_Psychology_Major_Business Administration_Mechanical DesignMajor_x_Mechanical Engineering_Major_y_Business Administration_Major_Psychology_Software DevelopmentMajor_x_Business Administration_Major_y_Physics_Major_Business Administration_CounselingMajor_x_Computer Science_Major_y_Mechanical Engineering_Major_Psychology_Mechanical DesignMajor_x_Psychology_Major_y_Computer Science_Major_Physics_Software DevelopmentMajor_x_Business Administration_Major_y_Business Administration_Major_Physics_FinanceMajor_x_Mechanical Engineering_Major_y_Physics_Major_Physics_CounselingMajor_x_Psychology_Major_y_Computer Science_Major_Computer Science_Mechanical DesignMajor_x_Mechanical Engineering_Major_y_Physics_Major_Psychology_Mechanical DesignMajor_x_Psychology_Major_y_Mechanical Engineering_Major_Psychology_CounselingMajor_x_Mechanical Engineering_Major_y_Psychology_Major_Computer Science_Software DevelopmentMajor_x_Computer Science_Major_y_Business Administration_Major_Computer Science_Mechanical DesignMajor_x_Physics_Major_y_Business Administration_Major_Mechanical Engineering_ResearchMajor_x_Physics_Major_y_Psychology_Major_Computer Science_FinanceMajor_x_Computer Science_Major_y_Business Administration_Major_Mechanical Engineering_Mechanical DesignMajor_x_Computer Science_Major_y_Business Administration_Major_Mechanical Engineering_Software DevelopmentMajor_x_Business Administration_Major_y_Mechanical Engineering_Major_Mechanical Engineering_Software DevelopmentMajor_x_Business Administration_Major_y_Computer Science_Major_Physics_CounselingMajor_x_Mechanical Engineering_Major_y_Psychology_Major_Physics_Mechanical DesignMajor_x_Computer Science_Major_y_Mechanical Engineering_Major_Physics_Software DevelopmentMajor_x_Physics_Major_y_Computer Science_Major_Mechanical Engineering_ResearchMajor_x_Physics_Major_y_Business Administration_Major_Computer Science_ResearchMajor_x_Physics_Major_y_Computer Science_Major_Mechanical Engineering_FinanceMajor_x_Business Administration_Major_y_Mechanical Engineering_Major_Mechanical Engineering_Software DevelopmentMajor_x_Computer Science_Major_y_Computer Science_Major_Computer Science_Software DevelopmentMajor_x_Psychology_Major_y_Mechanical Engineering_Major_Business Administration_ResearchMajor_x_Psychology_Major_y_Psychology_Major_Computer Science_FinanceMajor_x_Mechanical Engineering_Major_y_Physics_Major_Computer Science_CounselingMajor_x_Physics_Major_y_Computer Science_Major_Computer Science_CounselingMajor_x_Psychology_Major_y_Computer Science_Major_Psychology_ResearchMajor_x_Psychology_Major_y_Computer Science_Major_Psychology_CounselingMajor_x_Business Administration_Major_y_Computer Science_Major_Physics_ResearchMajor_x_Business Administration_Major_y_Computer Science_Major_Psychology_CounselingMajor_x_Computer Science_Major_y_Mechanical Engineering_Major_Computer Science_ResearchMajor_x_Business Administration_Major_y_Computer Science_Major_Business Administration_CounselingMajor_x_Business Administration_Major_y_Psychology_Major_Computer Science_Software DevelopmentMajor_x_Mechanical Engineering_Major_y_Psychology_Major_Computer Science_Mechanical DesignMajor_x_Psychology_Major_y_Business Administration_Major_Business Administration_CounselingMajor_x_Business Administration_Major_y_Physics_Major_Business Administration_FinanceMajor_x_Business Administration_Major_y_Computer Science_Major_Psychology_Software DevelopmentMajor_x_Physics_Major_y_Physics_Major_Mechanical Engineering_Mechanical DesignMajor_x_Psychology_Major_y_Business Administration_Major_Physics_ResearchMajor_x_Psychology_Major_y_Psychology_Major_Psychology_ResearchMajor_x_Psychology_Major_y_Business Administration_Major_Computer Science_Software DevelopmentMajor_x_Business Administration_Major_y_Business Administration_Major_Business Administration_Mechanical DesignMajor_x_Business Administration_Major_y_Computer Science_Major_Computer Science_FinanceMajor_x_Mechanical Engineering_Major_y_Psychology_Major_Mechanical Engineering_FinanceMajor_x_Business Administration_Major_y_Psychology_Major_Business Administration_FinanceMajor_x_Computer Science_Major_y_Business Administration_Major_Business Administration_CounselingMajor_x_Mechanical Engineering_Major_y_Psychology_Major_Computer Science_CounselingMajor_x_Physics_Major_y_Physics_Major_Mechanical Engineering_Mechanical DesignMajor_x_Psychology_Major_y_Mechanical Engineering_Major_Psychology_FinanceMajor_x_Mechanical Engineering_Major_y_Physics_Major_Psychology_FinanceMajor_x_Business Administration_Major_y_Physics_Major_Business Administration_Mechanical DesignMajor_x_Psychology_Major_y_Business Administration_Major_Computer Science_ResearchMajor_x_Computer Science_Major_y_Mechanical Engineering_Major_Mechanical Engineering_Mechanical DesignMajor_x_Mechanical Engineering_Major_y_Computer Science_Major_Mechanical Engineering_FinanceMajor_x_Mechanical Engineering_Major_y_Physics_Major_Physics_Mechanical DesignMajor_x_Mechanical Engineering_Major_y_Business Administration_Major_Physics_Software DevelopmentMajor_x_Mechanical Engineering_Major_y_Computer Science_Major_Physics_CounselingMajor_x_Business Administration_Major_y_Psychology_Major_Mechanical Engineering_CounselingMajor_x_Psychology_Major_y_Physics_Major_Computer Science_Software DevelopmentMajor_x_Computer Science_Major_y_Computer Science_Major_Mechanical Engineering_Software DevelopmentMajor_x_Computer Science_Major_y_Mechanical Engineering_Major_Physics_Mechanical DesignMajor_x_Mechanical Engineering_Major_y_Business Administration_Major_Psychology_Counseling'] to numeric",
     "output_type": "error",
     "traceback": [
      "\u001b[0;31m---------------------------------------------------------------------------\u001b[0m",
      "\u001b[0;31mTypeError\u001b[0m                                 Traceback (most recent call last)",
      "Cell \u001b[0;32mIn[24], line 19\u001b[0m\n\u001b[1;32m     16\u001b[0m X_train, X_test, y_train, y_test \u001b[38;5;241m=\u001b[39m train_test_split(X, y, test_size\u001b[38;5;241m=\u001b[39m\u001b[38;5;241m0.2\u001b[39m, random_state\u001b[38;5;241m=\u001b[39m\u001b[38;5;241m42\u001b[39m)\n\u001b[1;32m     18\u001b[0m \u001b[38;5;66;03m# Handle NaN values in X_train and X_test by filling with the mean\u001b[39;00m\n\u001b[0;32m---> 19\u001b[0m X_train \u001b[38;5;241m=\u001b[39m X_train\u001b[38;5;241m.\u001b[39mfillna(X_train\u001b[38;5;241m.\u001b[39mmean())\n\u001b[1;32m     20\u001b[0m X_test \u001b[38;5;241m=\u001b[39m X_test\u001b[38;5;241m.\u001b[39mfillna(X_test\u001b[38;5;241m.\u001b[39mmean())\n\u001b[1;32m     22\u001b[0m \u001b[38;5;66;03m# Train a Random Forest Classifier\u001b[39;00m\n",
      "File \u001b[0;32m/opt/anaconda3/lib/python3.11/site-packages/pandas/core/frame.py:11335\u001b[0m, in \u001b[0;36mDataFrame.mean\u001b[0;34m(self, axis, skipna, numeric_only, **kwargs)\u001b[0m\n\u001b[1;32m  11327\u001b[0m \u001b[38;5;129m@doc\u001b[39m(make_doc(\u001b[38;5;124m\"\u001b[39m\u001b[38;5;124mmean\u001b[39m\u001b[38;5;124m\"\u001b[39m, ndim\u001b[38;5;241m=\u001b[39m\u001b[38;5;241m2\u001b[39m))\n\u001b[1;32m  11328\u001b[0m \u001b[38;5;28;01mdef\u001b[39;00m \u001b[38;5;21mmean\u001b[39m(\n\u001b[1;32m  11329\u001b[0m     \u001b[38;5;28mself\u001b[39m,\n\u001b[0;32m   (...)\u001b[0m\n\u001b[1;32m  11333\u001b[0m     \u001b[38;5;241m*\u001b[39m\u001b[38;5;241m*\u001b[39mkwargs,\n\u001b[1;32m  11334\u001b[0m ):\n\u001b[0;32m> 11335\u001b[0m     result \u001b[38;5;241m=\u001b[39m \u001b[38;5;28msuper\u001b[39m()\u001b[38;5;241m.\u001b[39mmean(axis, skipna, numeric_only, \u001b[38;5;241m*\u001b[39m\u001b[38;5;241m*\u001b[39mkwargs)\n\u001b[1;32m  11336\u001b[0m     \u001b[38;5;28;01mif\u001b[39;00m \u001b[38;5;28misinstance\u001b[39m(result, Series):\n\u001b[1;32m  11337\u001b[0m         result \u001b[38;5;241m=\u001b[39m result\u001b[38;5;241m.\u001b[39m__finalize__(\u001b[38;5;28mself\u001b[39m, method\u001b[38;5;241m=\u001b[39m\u001b[38;5;124m\"\u001b[39m\u001b[38;5;124mmean\u001b[39m\u001b[38;5;124m\"\u001b[39m)\n",
      "File \u001b[0;32m/opt/anaconda3/lib/python3.11/site-packages/pandas/core/generic.py:11992\u001b[0m, in \u001b[0;36mNDFrame.mean\u001b[0;34m(self, axis, skipna, numeric_only, **kwargs)\u001b[0m\n\u001b[1;32m  11985\u001b[0m \u001b[38;5;28;01mdef\u001b[39;00m \u001b[38;5;21mmean\u001b[39m(\n\u001b[1;32m  11986\u001b[0m     \u001b[38;5;28mself\u001b[39m,\n\u001b[1;32m  11987\u001b[0m     axis: Axis \u001b[38;5;241m|\u001b[39m \u001b[38;5;28;01mNone\u001b[39;00m \u001b[38;5;241m=\u001b[39m \u001b[38;5;241m0\u001b[39m,\n\u001b[0;32m   (...)\u001b[0m\n\u001b[1;32m  11990\u001b[0m     \u001b[38;5;241m*\u001b[39m\u001b[38;5;241m*\u001b[39mkwargs,\n\u001b[1;32m  11991\u001b[0m ) \u001b[38;5;241m-\u001b[39m\u001b[38;5;241m>\u001b[39m Series \u001b[38;5;241m|\u001b[39m \u001b[38;5;28mfloat\u001b[39m:\n\u001b[0;32m> 11992\u001b[0m     \u001b[38;5;28;01mreturn\u001b[39;00m \u001b[38;5;28mself\u001b[39m\u001b[38;5;241m.\u001b[39m_stat_function(\n\u001b[1;32m  11993\u001b[0m         \u001b[38;5;124m\"\u001b[39m\u001b[38;5;124mmean\u001b[39m\u001b[38;5;124m\"\u001b[39m, nanops\u001b[38;5;241m.\u001b[39mnanmean, axis, skipna, numeric_only, \u001b[38;5;241m*\u001b[39m\u001b[38;5;241m*\u001b[39mkwargs\n\u001b[1;32m  11994\u001b[0m     )\n",
      "File \u001b[0;32m/opt/anaconda3/lib/python3.11/site-packages/pandas/core/generic.py:11949\u001b[0m, in \u001b[0;36mNDFrame._stat_function\u001b[0;34m(self, name, func, axis, skipna, numeric_only, **kwargs)\u001b[0m\n\u001b[1;32m  11945\u001b[0m nv\u001b[38;5;241m.\u001b[39mvalidate_func(name, (), kwargs)\n\u001b[1;32m  11947\u001b[0m validate_bool_kwarg(skipna, \u001b[38;5;124m\"\u001b[39m\u001b[38;5;124mskipna\u001b[39m\u001b[38;5;124m\"\u001b[39m, none_allowed\u001b[38;5;241m=\u001b[39m\u001b[38;5;28;01mFalse\u001b[39;00m)\n\u001b[0;32m> 11949\u001b[0m \u001b[38;5;28;01mreturn\u001b[39;00m \u001b[38;5;28mself\u001b[39m\u001b[38;5;241m.\u001b[39m_reduce(\n\u001b[1;32m  11950\u001b[0m     func, name\u001b[38;5;241m=\u001b[39mname, axis\u001b[38;5;241m=\u001b[39maxis, skipna\u001b[38;5;241m=\u001b[39mskipna, numeric_only\u001b[38;5;241m=\u001b[39mnumeric_only\n\u001b[1;32m  11951\u001b[0m )\n",
      "File \u001b[0;32m/opt/anaconda3/lib/python3.11/site-packages/pandas/core/frame.py:11204\u001b[0m, in \u001b[0;36mDataFrame._reduce\u001b[0;34m(self, op, name, axis, skipna, numeric_only, filter_type, **kwds)\u001b[0m\n\u001b[1;32m  11200\u001b[0m     df \u001b[38;5;241m=\u001b[39m df\u001b[38;5;241m.\u001b[39mT\n\u001b[1;32m  11202\u001b[0m \u001b[38;5;66;03m# After possibly _get_data and transposing, we are now in the\u001b[39;00m\n\u001b[1;32m  11203\u001b[0m \u001b[38;5;66;03m#  simple case where we can use BlockManager.reduce\u001b[39;00m\n\u001b[0;32m> 11204\u001b[0m res \u001b[38;5;241m=\u001b[39m df\u001b[38;5;241m.\u001b[39m_mgr\u001b[38;5;241m.\u001b[39mreduce(blk_func)\n\u001b[1;32m  11205\u001b[0m out \u001b[38;5;241m=\u001b[39m df\u001b[38;5;241m.\u001b[39m_constructor_from_mgr(res, axes\u001b[38;5;241m=\u001b[39mres\u001b[38;5;241m.\u001b[39maxes)\u001b[38;5;241m.\u001b[39miloc[\u001b[38;5;241m0\u001b[39m]\n\u001b[1;32m  11206\u001b[0m \u001b[38;5;28;01mif\u001b[39;00m out_dtype \u001b[38;5;129;01mis\u001b[39;00m \u001b[38;5;129;01mnot\u001b[39;00m \u001b[38;5;28;01mNone\u001b[39;00m \u001b[38;5;129;01mand\u001b[39;00m out\u001b[38;5;241m.\u001b[39mdtype \u001b[38;5;241m!=\u001b[39m \u001b[38;5;124m\"\u001b[39m\u001b[38;5;124mboolean\u001b[39m\u001b[38;5;124m\"\u001b[39m:\n",
      "File \u001b[0;32m/opt/anaconda3/lib/python3.11/site-packages/pandas/core/internals/managers.py:1459\u001b[0m, in \u001b[0;36mBlockManager.reduce\u001b[0;34m(self, func)\u001b[0m\n\u001b[1;32m   1457\u001b[0m res_blocks: \u001b[38;5;28mlist\u001b[39m[Block] \u001b[38;5;241m=\u001b[39m []\n\u001b[1;32m   1458\u001b[0m \u001b[38;5;28;01mfor\u001b[39;00m blk \u001b[38;5;129;01min\u001b[39;00m \u001b[38;5;28mself\u001b[39m\u001b[38;5;241m.\u001b[39mblocks:\n\u001b[0;32m-> 1459\u001b[0m     nbs \u001b[38;5;241m=\u001b[39m blk\u001b[38;5;241m.\u001b[39mreduce(func)\n\u001b[1;32m   1460\u001b[0m     res_blocks\u001b[38;5;241m.\u001b[39mextend(nbs)\n\u001b[1;32m   1462\u001b[0m index \u001b[38;5;241m=\u001b[39m Index([\u001b[38;5;28;01mNone\u001b[39;00m])  \u001b[38;5;66;03m# placeholder\u001b[39;00m\n",
      "File \u001b[0;32m/opt/anaconda3/lib/python3.11/site-packages/pandas/core/internals/blocks.py:377\u001b[0m, in \u001b[0;36mBlock.reduce\u001b[0;34m(self, func)\u001b[0m\n\u001b[1;32m    371\u001b[0m \u001b[38;5;129m@final\u001b[39m\n\u001b[1;32m    372\u001b[0m \u001b[38;5;28;01mdef\u001b[39;00m \u001b[38;5;21mreduce\u001b[39m(\u001b[38;5;28mself\u001b[39m, func) \u001b[38;5;241m-\u001b[39m\u001b[38;5;241m>\u001b[39m \u001b[38;5;28mlist\u001b[39m[Block]:\n\u001b[1;32m    373\u001b[0m     \u001b[38;5;66;03m# We will apply the function and reshape the result into a single-row\u001b[39;00m\n\u001b[1;32m    374\u001b[0m     \u001b[38;5;66;03m#  Block with the same mgr_locs; squeezing will be done at a higher level\u001b[39;00m\n\u001b[1;32m    375\u001b[0m     \u001b[38;5;28;01massert\u001b[39;00m \u001b[38;5;28mself\u001b[39m\u001b[38;5;241m.\u001b[39mndim \u001b[38;5;241m==\u001b[39m \u001b[38;5;241m2\u001b[39m\n\u001b[0;32m--> 377\u001b[0m     result \u001b[38;5;241m=\u001b[39m func(\u001b[38;5;28mself\u001b[39m\u001b[38;5;241m.\u001b[39mvalues)\n\u001b[1;32m    379\u001b[0m     \u001b[38;5;28;01mif\u001b[39;00m \u001b[38;5;28mself\u001b[39m\u001b[38;5;241m.\u001b[39mvalues\u001b[38;5;241m.\u001b[39mndim \u001b[38;5;241m==\u001b[39m \u001b[38;5;241m1\u001b[39m:\n\u001b[1;32m    380\u001b[0m         res_values \u001b[38;5;241m=\u001b[39m result\n",
      "File \u001b[0;32m/opt/anaconda3/lib/python3.11/site-packages/pandas/core/frame.py:11136\u001b[0m, in \u001b[0;36mDataFrame._reduce.<locals>.blk_func\u001b[0;34m(values, axis)\u001b[0m\n\u001b[1;32m  11134\u001b[0m         \u001b[38;5;28;01mreturn\u001b[39;00m np\u001b[38;5;241m.\u001b[39marray([result])\n\u001b[1;32m  11135\u001b[0m \u001b[38;5;28;01melse\u001b[39;00m:\n\u001b[0;32m> 11136\u001b[0m     \u001b[38;5;28;01mreturn\u001b[39;00m op(values, axis\u001b[38;5;241m=\u001b[39maxis, skipna\u001b[38;5;241m=\u001b[39mskipna, \u001b[38;5;241m*\u001b[39m\u001b[38;5;241m*\u001b[39mkwds)\n",
      "File \u001b[0;32m/opt/anaconda3/lib/python3.11/site-packages/pandas/core/nanops.py:147\u001b[0m, in \u001b[0;36mbottleneck_switch.__call__.<locals>.f\u001b[0;34m(values, axis, skipna, **kwds)\u001b[0m\n\u001b[1;32m    145\u001b[0m         result \u001b[38;5;241m=\u001b[39m alt(values, axis\u001b[38;5;241m=\u001b[39maxis, skipna\u001b[38;5;241m=\u001b[39mskipna, \u001b[38;5;241m*\u001b[39m\u001b[38;5;241m*\u001b[39mkwds)\n\u001b[1;32m    146\u001b[0m \u001b[38;5;28;01melse\u001b[39;00m:\n\u001b[0;32m--> 147\u001b[0m     result \u001b[38;5;241m=\u001b[39m alt(values, axis\u001b[38;5;241m=\u001b[39maxis, skipna\u001b[38;5;241m=\u001b[39mskipna, \u001b[38;5;241m*\u001b[39m\u001b[38;5;241m*\u001b[39mkwds)\n\u001b[1;32m    149\u001b[0m \u001b[38;5;28;01mreturn\u001b[39;00m result\n",
      "File \u001b[0;32m/opt/anaconda3/lib/python3.11/site-packages/pandas/core/nanops.py:404\u001b[0m, in \u001b[0;36m_datetimelike_compat.<locals>.new_func\u001b[0;34m(values, axis, skipna, mask, **kwargs)\u001b[0m\n\u001b[1;32m    401\u001b[0m \u001b[38;5;28;01mif\u001b[39;00m datetimelike \u001b[38;5;129;01mand\u001b[39;00m mask \u001b[38;5;129;01mis\u001b[39;00m \u001b[38;5;28;01mNone\u001b[39;00m:\n\u001b[1;32m    402\u001b[0m     mask \u001b[38;5;241m=\u001b[39m isna(values)\n\u001b[0;32m--> 404\u001b[0m result \u001b[38;5;241m=\u001b[39m func(values, axis\u001b[38;5;241m=\u001b[39maxis, skipna\u001b[38;5;241m=\u001b[39mskipna, mask\u001b[38;5;241m=\u001b[39mmask, \u001b[38;5;241m*\u001b[39m\u001b[38;5;241m*\u001b[39mkwargs)\n\u001b[1;32m    406\u001b[0m \u001b[38;5;28;01mif\u001b[39;00m datetimelike:\n\u001b[1;32m    407\u001b[0m     result \u001b[38;5;241m=\u001b[39m _wrap_results(result, orig_values\u001b[38;5;241m.\u001b[39mdtype, fill_value\u001b[38;5;241m=\u001b[39miNaT)\n",
      "File \u001b[0;32m/opt/anaconda3/lib/python3.11/site-packages/pandas/core/nanops.py:720\u001b[0m, in \u001b[0;36mnanmean\u001b[0;34m(values, axis, skipna, mask)\u001b[0m\n\u001b[1;32m    718\u001b[0m count \u001b[38;5;241m=\u001b[39m _get_counts(values\u001b[38;5;241m.\u001b[39mshape, mask, axis, dtype\u001b[38;5;241m=\u001b[39mdtype_count)\n\u001b[1;32m    719\u001b[0m the_sum \u001b[38;5;241m=\u001b[39m values\u001b[38;5;241m.\u001b[39msum(axis, dtype\u001b[38;5;241m=\u001b[39mdtype_sum)\n\u001b[0;32m--> 720\u001b[0m the_sum \u001b[38;5;241m=\u001b[39m _ensure_numeric(the_sum)\n\u001b[1;32m    722\u001b[0m \u001b[38;5;28;01mif\u001b[39;00m axis \u001b[38;5;129;01mis\u001b[39;00m \u001b[38;5;129;01mnot\u001b[39;00m \u001b[38;5;28;01mNone\u001b[39;00m \u001b[38;5;129;01mand\u001b[39;00m \u001b[38;5;28mgetattr\u001b[39m(the_sum, \u001b[38;5;124m\"\u001b[39m\u001b[38;5;124mndim\u001b[39m\u001b[38;5;124m\"\u001b[39m, \u001b[38;5;28;01mFalse\u001b[39;00m):\n\u001b[1;32m    723\u001b[0m     count \u001b[38;5;241m=\u001b[39m cast(np\u001b[38;5;241m.\u001b[39mndarray, count)\n",
      "File \u001b[0;32m/opt/anaconda3/lib/python3.11/site-packages/pandas/core/nanops.py:1678\u001b[0m, in \u001b[0;36m_ensure_numeric\u001b[0;34m(x)\u001b[0m\n\u001b[1;32m   1675\u001b[0m inferred \u001b[38;5;241m=\u001b[39m lib\u001b[38;5;241m.\u001b[39minfer_dtype(x)\n\u001b[1;32m   1676\u001b[0m \u001b[38;5;28;01mif\u001b[39;00m inferred \u001b[38;5;129;01min\u001b[39;00m [\u001b[38;5;124m\"\u001b[39m\u001b[38;5;124mstring\u001b[39m\u001b[38;5;124m\"\u001b[39m, \u001b[38;5;124m\"\u001b[39m\u001b[38;5;124mmixed\u001b[39m\u001b[38;5;124m\"\u001b[39m]:\n\u001b[1;32m   1677\u001b[0m     \u001b[38;5;66;03m# GH#44008, GH#36703 avoid casting e.g. strings to numeric\u001b[39;00m\n\u001b[0;32m-> 1678\u001b[0m     \u001b[38;5;28;01mraise\u001b[39;00m \u001b[38;5;167;01mTypeError\u001b[39;00m(\u001b[38;5;124mf\u001b[39m\u001b[38;5;124m\"\u001b[39m\u001b[38;5;124mCould not convert \u001b[39m\u001b[38;5;132;01m{\u001b[39;00mx\u001b[38;5;132;01m}\u001b[39;00m\u001b[38;5;124m to numeric\u001b[39m\u001b[38;5;124m\"\u001b[39m)\n\u001b[1;32m   1679\u001b[0m \u001b[38;5;28;01mtry\u001b[39;00m:\n\u001b[1;32m   1680\u001b[0m     x \u001b[38;5;241m=\u001b[39m x\u001b[38;5;241m.\u001b[39mastype(np\u001b[38;5;241m.\u001b[39mcomplex128)\n",
      "\u001b[0;31mTypeError\u001b[0m: Could not convert ['Major_x_Business Administration_Major_y_Psychology_Major_Business Administration_Mechanical DesignMajor_x_Mechanical Engineering_Major_y_Business Administration_Major_Business Administration_Mechanical DesignMajor_x_Business Administration_Major_y_Business Administration_Major_Psychology_CounselingMajor_x_Physics_Major_y_Business Administration_Major_Physics_Software DevelopmentMajor_x_Mechanical Engineering_Major_y_Mechanical Engineering_Major_Computer Science_ResearchMajor_x_Psychology_Major_y_Computer Science_Major_Business Administration_CounselingMajor_x_Computer Science_Major_y_Mechanical Engineering_Major_Psychology_Software DevelopmentMajor_x_Psychology_Major_y_Computer Science_Major_Computer Science_Mechanical DesignMajor_x_Mechanical Engineering_Major_y_Computer Science_Major_Psychology_ResearchMajor_x_Mechanical Engineering_Major_y_Mechanical Engineering_Major_Physics_Software DevelopmentMajor_x_Mechanical Engineering_Major_y_Physics_Major_Mechanical Engineering_CounselingMajor_x_Psychology_Major_y_Business Administration_Major_Physics_CounselingMajor_x_Mechanical Engineering_Major_y_Psychology_Major_Psychology_Software DevelopmentMajor_x_Business Administration_Major_y_Psychology_Major_Mechanical Engineering_ResearchMajor_x_Mechanical Engineering_Major_y_Psychology_Major_Mechanical Engineering_CounselingMajor_x_Business Administration_Major_y_Psychology_Major_Business Administration_Mechanical DesignMajor_x_Mechanical Engineering_Major_y_Business Administration_Major_Psychology_Software DevelopmentMajor_x_Business Administration_Major_y_Physics_Major_Business Administration_CounselingMajor_x_Computer Science_Major_y_Mechanical Engineering_Major_Psychology_Mechanical DesignMajor_x_Psychology_Major_y_Computer Science_Major_Physics_Software DevelopmentMajor_x_Business Administration_Major_y_Business Administration_Major_Physics_FinanceMajor_x_Mechanical Engineering_Major_y_Physics_Major_Physics_CounselingMajor_x_Psychology_Major_y_Computer Science_Major_Computer Science_Mechanical DesignMajor_x_Mechanical Engineering_Major_y_Physics_Major_Psychology_Mechanical DesignMajor_x_Psychology_Major_y_Mechanical Engineering_Major_Psychology_CounselingMajor_x_Mechanical Engineering_Major_y_Psychology_Major_Computer Science_Software DevelopmentMajor_x_Computer Science_Major_y_Business Administration_Major_Computer Science_Mechanical DesignMajor_x_Physics_Major_y_Business Administration_Major_Mechanical Engineering_ResearchMajor_x_Physics_Major_y_Psychology_Major_Computer Science_FinanceMajor_x_Computer Science_Major_y_Business Administration_Major_Mechanical Engineering_Mechanical DesignMajor_x_Computer Science_Major_y_Business Administration_Major_Mechanical Engineering_Software DevelopmentMajor_x_Business Administration_Major_y_Mechanical Engineering_Major_Mechanical Engineering_Software DevelopmentMajor_x_Business Administration_Major_y_Computer Science_Major_Physics_CounselingMajor_x_Mechanical Engineering_Major_y_Psychology_Major_Physics_Mechanical DesignMajor_x_Computer Science_Major_y_Mechanical Engineering_Major_Physics_Software DevelopmentMajor_x_Physics_Major_y_Computer Science_Major_Mechanical Engineering_ResearchMajor_x_Physics_Major_y_Business Administration_Major_Computer Science_ResearchMajor_x_Physics_Major_y_Computer Science_Major_Mechanical Engineering_FinanceMajor_x_Business Administration_Major_y_Mechanical Engineering_Major_Mechanical Engineering_Software DevelopmentMajor_x_Computer Science_Major_y_Computer Science_Major_Computer Science_Software DevelopmentMajor_x_Psychology_Major_y_Mechanical Engineering_Major_Business Administration_ResearchMajor_x_Psychology_Major_y_Psychology_Major_Computer Science_FinanceMajor_x_Mechanical Engineering_Major_y_Physics_Major_Computer Science_CounselingMajor_x_Physics_Major_y_Computer Science_Major_Computer Science_CounselingMajor_x_Psychology_Major_y_Computer Science_Major_Psychology_ResearchMajor_x_Psychology_Major_y_Computer Science_Major_Psychology_CounselingMajor_x_Business Administration_Major_y_Computer Science_Major_Physics_ResearchMajor_x_Business Administration_Major_y_Computer Science_Major_Psychology_CounselingMajor_x_Computer Science_Major_y_Mechanical Engineering_Major_Computer Science_ResearchMajor_x_Business Administration_Major_y_Computer Science_Major_Business Administration_CounselingMajor_x_Business Administration_Major_y_Psychology_Major_Computer Science_Software DevelopmentMajor_x_Mechanical Engineering_Major_y_Psychology_Major_Computer Science_Mechanical DesignMajor_x_Psychology_Major_y_Business Administration_Major_Business Administration_CounselingMajor_x_Business Administration_Major_y_Physics_Major_Business Administration_FinanceMajor_x_Business Administration_Major_y_Computer Science_Major_Psychology_Software DevelopmentMajor_x_Physics_Major_y_Physics_Major_Mechanical Engineering_Mechanical DesignMajor_x_Psychology_Major_y_Business Administration_Major_Physics_ResearchMajor_x_Psychology_Major_y_Psychology_Major_Psychology_ResearchMajor_x_Psychology_Major_y_Business Administration_Major_Computer Science_Software DevelopmentMajor_x_Business Administration_Major_y_Business Administration_Major_Business Administration_Mechanical DesignMajor_x_Business Administration_Major_y_Computer Science_Major_Computer Science_FinanceMajor_x_Mechanical Engineering_Major_y_Psychology_Major_Mechanical Engineering_FinanceMajor_x_Business Administration_Major_y_Psychology_Major_Business Administration_FinanceMajor_x_Computer Science_Major_y_Business Administration_Major_Business Administration_CounselingMajor_x_Mechanical Engineering_Major_y_Psychology_Major_Computer Science_CounselingMajor_x_Physics_Major_y_Physics_Major_Mechanical Engineering_Mechanical DesignMajor_x_Psychology_Major_y_Mechanical Engineering_Major_Psychology_FinanceMajor_x_Mechanical Engineering_Major_y_Physics_Major_Psychology_FinanceMajor_x_Business Administration_Major_y_Physics_Major_Business Administration_Mechanical DesignMajor_x_Psychology_Major_y_Business Administration_Major_Computer Science_ResearchMajor_x_Computer Science_Major_y_Mechanical Engineering_Major_Mechanical Engineering_Mechanical DesignMajor_x_Mechanical Engineering_Major_y_Computer Science_Major_Mechanical Engineering_FinanceMajor_x_Mechanical Engineering_Major_y_Physics_Major_Physics_Mechanical DesignMajor_x_Mechanical Engineering_Major_y_Business Administration_Major_Physics_Software DevelopmentMajor_x_Mechanical Engineering_Major_y_Computer Science_Major_Physics_CounselingMajor_x_Business Administration_Major_y_Psychology_Major_Mechanical Engineering_CounselingMajor_x_Psychology_Major_y_Physics_Major_Computer Science_Software DevelopmentMajor_x_Computer Science_Major_y_Computer Science_Major_Mechanical Engineering_Software DevelopmentMajor_x_Computer Science_Major_y_Mechanical Engineering_Major_Physics_Mechanical DesignMajor_x_Mechanical Engineering_Major_y_Business Administration_Major_Psychology_Counseling'] to numeric"
     ]
    }
   ],
   "source": [
    "# Prepare data for modeling\n",
    "# Combine relevant features for the model\n",
    "feature_cols = ['Age', 'GPA', 'Internships', 'Work Experience', 'Year of Study_x',\n",
    "                'Year of Study_y', 'Gender', 'Learning Style', 'Weighted_Course_Performance',\n",
    "                'Number_of_Courses_Taken', 'Average_Course_Performance'] + \\\n",
    "               [col for col in df.columns if 'Major_' in col]\n",
    "\n",
    "X = df[feature_cols]\n",
    "\n",
    "# Encode the 'Career Interest' column\n",
    "label_encoder = LabelEncoder()\n",
    "df['Career Interest Encoded'] = label_encoder.fit_transform(df['Career Interest'])\n",
    "y = df['Career Interest Encoded']\n",
    "\n",
    "# Split data into training and testing sets\n",
    "X_train, X_test, y_train, y_test = train_test_split(X, y, test_size=0.2, random_state=42)\n",
    "\n",
    "# Handle NaN values in X_train and X_test by filling with the mean\n",
    "X_train = X_train.fillna(X_train.mean())\n",
    "X_test = X_test.fillna(X_test.mean())\n",
    "\n",
    "# Train a Random Forest Classifier\n",
    "model = RandomForestClassifier(n_estimators=100, random_state=42)\n",
    "model.fit(X_train, y_train)\n",
    "\n",
    "# Evaluate the model\n",
    "y_pred = model.predict(X_test)\n",
    "print(classification_report(y_test, y_pred))"
   ]
  },
  {
   "cell_type": "code",
   "execution_count": null,
   "id": "a29f1d69-1393-4ba1-83b0-788dbba6baef",
   "metadata": {},
   "outputs": [],
   "source": []
  },
  {
   "cell_type": "code",
   "execution_count": null,
   "id": "b6b8af84-7002-49cd-9e23-b1f2ab2e27be",
   "metadata": {},
   "outputs": [],
   "source": []
  },
  {
   "cell_type": "code",
   "execution_count": null,
   "id": "aa2cbf0d-3425-4fbe-a0bc-ee5fc69cd34e",
   "metadata": {},
   "outputs": [],
   "source": []
  }
 ],
 "metadata": {
  "kernelspec": {
   "display_name": "Python 3 (ipykernel)",
   "language": "python",
   "name": "python3"
  },
  "language_info": {
   "codemirror_mode": {
    "name": "ipython",
    "version": 3
   },
   "file_extension": ".py",
   "mimetype": "text/x-python",
   "name": "python",
   "nbconvert_exporter": "python",
   "pygments_lexer": "ipython3",
   "version": "3.11.8"
  }
 },
 "nbformat": 4,
 "nbformat_minor": 5
}
